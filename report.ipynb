{
 "cells": [
  {
   "cell_type": "markdown",
   "id": "47b29434",
   "metadata": {},
   "source": [
    "Artur Back de Luca\n",
    "# Visualizing domestic collaboration within CS academia\n",
    "\n",
    "The goal of this project is to analyze the collaboration between academics of Computer Science across universities within a given country.\n",
    "\n",
    "As discussed in the chapter \"The Science of Collaboration\" of the book \"The Science of Science\", collaborations between institutions in academia have increased over the years in all disciplines.\n",
    "However, the proportions between international and domestic collaborations vary across countries.\n",
    "<div>\n",
    "    <br/>\n",
    "    <img src=\"./data/media/colab.png\" width=\"50%\"/>\n",
    "    <p style=\"font-size:10px; text-align:right\"> Source: The Science of Science</p>\n",
    "</div>\n",
    "\n",
    "Motivated by this, we propose to further inspect the dynamics of collaboration in different countries within the field of Computer Science."
   ]
  },
  {
   "cell_type": "markdown",
   "id": "e626d858",
   "metadata": {},
   "source": [
    "### Data and preprocessing\n",
    "\n",
    "In order to inspect collaboration in different countries, we analyzed data from the world top 500 universities in Computer Science. Data was obtained by [CSRankings](https://csrankings.org/) which ranks universities based on academic throughput of its Computer Science faculty.\n",
    "\n",
    "To this end, we developed a web-crawler using Python and Selenium to extract all 500 universities, their country of origin, as well as the faculty names and their [DBLP](dblp.org/) alias.\n",
    "Once the aliases have been extracted, we use the DBLP API to go through each faculty member's profile and extract all other DBLP aliases associated with that individual, including the number of collaborations between the two researchers.\n",
    "\n",
    "With the information extracted, we build a weighted graph only containing the top universities of a selected country, whose adjacency table entries represents the number of collaborations any two researchers have."
   ]
  },
  {
   "cell_type": "markdown",
   "id": "323c8813",
   "metadata": {},
   "source": [
    "### Results\n",
    "\n",
    "Run the cell below to generate graphs from each country. Click on the nodes to view their connections and additional information. Also, you can hover over each edge to view the number of collaborations between researchers.\n",
    "\n",
    "\n",
    "Since generating graph data for many nodes can be very computationally demanding, be aware that results for countries such as the US and China may take a lot of time and may not be so insightful when consindering all universities in the list."
   ]
  },
  {
   "cell_type": "code",
   "execution_count": 1,
   "id": "eb86b159",
   "metadata": {},
   "outputs": [
    {
     "data": {
      "application/vnd.jupyter.widget-view+json": {
       "model_id": "ebe7e7a8d4c347608479bfedd75cec44",
       "version_major": 2,
       "version_minor": 0
      },
      "text/plain": [
       "VBox(children=(HBox(children=(Dropdown(description='Country:', options=(('Argentina', 'ar'), ('Australia', 'au…"
      ]
     },
     "execution_count": 1,
     "metadata": {},
     "output_type": "execute_result"
    }
   ],
   "source": [
    "from asecs import viz\n",
    "viz.run('.')"
   ]
  },
  {
   "cell_type": "markdown",
   "id": "46857cc5",
   "metadata": {},
   "source": [
    "PS: Adjusting legends in pyvis can be quite cumbersome. Apologies in advance if any of the renderings turns out weird"
   ]
  },
  {
   "cell_type": "markdown",
   "id": "8e083162",
   "metadata": {},
   "source": [
    "### Comments"
   ]
  },
  {
   "cell_type": "markdown",
   "id": "3407a6c4",
   "metadata": {},
   "source": [
    "#### China and South Korea\n",
    "<div>\n",
    "    <br/>\n",
    "    <img src=\"./data/media/china_sk.png\" width=\"100%\"/>\n",
    "</div>\n",
    "\n",
    "Here we see the collaboration network of the top ten universities in China and South Korea, respectively. The most noticeable difference is the size of the networks, with China having more than 3 times the number of researchers. In addition, China's network is much denser, with an average degree of 10.2, versus 5.5 from South Korea. This indicates that a faculty member of a top university in China has an average of 10 collaborators, versus half of that in South Korea."
   ]
  },
  {
   "cell_type": "markdown",
   "id": "7e3deb7c",
   "metadata": {},
   "source": [
    "#### Universities in Canada\n",
    "<div>\n",
    "    <br/>\n",
    "    <img src=\"./data/media/canada.png\" width=\"100%\"/>\n",
    "</div>\n",
    "\n",
    "Here we see the collaboration network of the top universities in Canada, with emphasis on the University of Waterloo and the University of Montreal, respectively. What's interesting to observe here is that, despite the difference in the size of the faculties, collaborations are more evenly distributed in UWaterloo, with researchers with the highest number of collaborations highlighted. On the other hand, In UdM, in terms of collaborations, the remaining faculty members get overshadowed by the top collaborators"
   ]
  }
 ],
 "metadata": {
  "kernelspec": {
   "display_name": "Python 3 (ipykernel)",
   "language": "python",
   "name": "python3"
  },
  "language_info": {
   "codemirror_mode": {
    "name": "ipython",
    "version": 3
   },
   "file_extension": ".py",
   "mimetype": "text/x-python",
   "name": "python",
   "nbconvert_exporter": "python",
   "pygments_lexer": "ipython3",
   "version": "3.8.5"
  }
 },
 "nbformat": 4,
 "nbformat_minor": 5
}
